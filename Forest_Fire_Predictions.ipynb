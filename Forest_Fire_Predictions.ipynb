{
  "nbformat": 4,
  "nbformat_minor": 0,
  "metadata": {
    "colab": {
      "name": "Plural_Project1.ipynb",
      "private_outputs": true,
      "provenance": [],
      "authorship_tag": "ABX9TyNXWgcROfO6753Q+EYRmi3q",
      "include_colab_link": true
    },
    "kernelspec": {
      "name": "python3",
      "display_name": "Python 3"
    },
    "language_info": {
      "name": "python"
    }
  },
  "cells": [
    {
      "cell_type": "markdown",
      "metadata": {
        "id": "view-in-github",
        "colab_type": "text"
      },
      "source": [
        "<a href=\"https://colab.research.google.com/github/codin-champ/ML-Projects/blob/main/Forest_Fire_Predictions.ipynb\" target=\"_parent\"><img src=\"https://colab.research.google.com/assets/colab-badge.svg\" alt=\"Open In Colab\"/></a>"
      ]
    },
    {
      "cell_type": "markdown",
      "metadata": {
        "id": "4ur6k1MSXhOZ"
      },
      "source": [
        "# Basic Libraries"
      ]
    },
    {
      "cell_type": "code",
      "metadata": {
        "id": "zTgc-oxG6Vv1"
      },
      "source": [
        "import pandas as pd\n",
        "import numpy as np"
      ],
      "execution_count": null,
      "outputs": []
    },
    {
      "cell_type": "markdown",
      "metadata": {
        "id": "Wr152Ex9XnOl"
      },
      "source": [
        "# Reading Dataset"
      ]
    },
    {
      "cell_type": "code",
      "metadata": {
        "id": "YDtQXUX0j5ZD"
      },
      "source": [
        "filename = 'forestfires.csv' # upload this file everytime this is run\n",
        "names = ['X', 'Y', 'month', 'day', 'FFMC', 'DMC', 'DC', 'ISI', 'temp', 'RH', 'wind', 'rain', 'area']"
      ],
      "execution_count": null,
      "outputs": []
    },
    {
      "cell_type": "code",
      "metadata": {
        "id": "qGWMwrDDkQBf"
      },
      "source": [
        "df = pd.read_csv(filename, names=names)\n",
        "print(pd.isnull(df).sum()) # returns the number of empty cells for each column"
      ],
      "execution_count": null,
      "outputs": []
    },
    {
      "cell_type": "code",
      "metadata": {
        "id": "kNEpXwIDWbpC"
      },
      "source": [
        "pd.set_option('display.max_rows',500)\n",
        "pd.set_option('display.max_columns',500)\n",
        "pd.set_option('display.width',1000)"
      ],
      "execution_count": null,
      "outputs": []
    },
    {
      "cell_type": "markdown",
      "metadata": {
        "id": "en3oXPhXWw_G"
      },
      "source": [
        "## Discreptive Statistics"
      ]
    },
    {
      "cell_type": "code",
      "metadata": {
        "id": "HIDVMLj3W1J6"
      },
      "source": [
        "filename = 'forestfires.csv' # upload this file everytime this is run\n",
        "names = ['X', 'Y', 'month', 'day', 'FFMC', 'DMC', 'DC', 'ISI', 'temp', 'RH', 'wind', 'rain', 'area']\n",
        "df = pd.read_csv(filename, names=names)"
      ],
      "execution_count": null,
      "outputs": []
    },
    {
      "cell_type": "code",
      "metadata": {
        "id": "drWQkEQiXAmL"
      },
      "source": [
        "print(df.shape)"
      ],
      "execution_count": null,
      "outputs": []
    },
    {
      "cell_type": "code",
      "metadata": {
        "id": "AqgroxhdXHMS"
      },
      "source": [
        "print(df.dtypes)"
      ],
      "execution_count": null,
      "outputs": []
    },
    {
      "cell_type": "code",
      "metadata": {
        "id": "6YvXsMZAXNEe"
      },
      "source": [
        "print(df.head())"
      ],
      "execution_count": null,
      "outputs": []
    },
    {
      "cell_type": "code",
      "metadata": {
        "id": "m6Ap6iI3XVln"
      },
      "source": [
        "print(df.describe()) # does not include the date and month column cause they are strings"
      ],
      "execution_count": null,
      "outputs": []
    },
    {
      "cell_type": "code",
      "metadata": {
        "id": "y23sviZ-YS7c"
      },
      "source": [
        "print(df.corr(method='pearson')) # correlation of each column with all others-->diagonal is always 1"
      ],
      "execution_count": null,
      "outputs": []
    },
    {
      "cell_type": "code",
      "metadata": {
        "id": "cH7F_uQTYnA1"
      },
      "source": [
        "df.month.replace(('jan','feb', 'mar','apr','may', 'jun', 'jul', 'aug', 'sep', 'oct', 'nov','dec'),(1,2,3,4,5,6,7,8,9,10,11,12), inplace =True)\n",
        "print(df.head())"
      ],
      "execution_count": null,
      "outputs": []
    },
    {
      "cell_type": "code",
      "metadata": {
        "id": "KIDaDVDBZV0h"
      },
      "source": [
        "df.day.replace(('mon','tue','wed','thu','fri','sat','sun'),(1,2,3,4,5,6,7), inplace=True)\n",
        "print(df.head())"
      ],
      "execution_count": null,
      "outputs": []
    },
    {
      "cell_type": "markdown",
      "metadata": {
        "id": "ahga4JUkahA_"
      },
      "source": [
        "## Visualizing the Data"
      ]
    },
    {
      "cell_type": "code",
      "metadata": {
        "id": "0SUtgKv_anm6"
      },
      "source": [
        "from matplotlib import pyplot as plt"
      ],
      "execution_count": null,
      "outputs": []
    },
    {
      "cell_type": "markdown",
      "metadata": {
        "id": "Hv9uEErybi-1"
      },
      "source": [
        "### Histogram"
      ]
    },
    {
      "cell_type": "code",
      "metadata": {
        "id": "cFLPFjVGasHL"
      },
      "source": [
        "df.hist(sharex=False, sharey=False, xlabelsize=15, ylabelsize=15, color='orange', figsize=(15,15))\n",
        "plt.suptitle(\"Histograms\", y=1.00, fontweight='bold', fontsize=40)\n",
        "plt.show()"
      ],
      "execution_count": null,
      "outputs": []
    },
    {
      "cell_type": "markdown",
      "metadata": {
        "id": "DMm7VUHlbagQ"
      },
      "source": [
        "### Probability Density Function(PDF)"
      ]
    },
    {
      "cell_type": "code",
      "metadata": {
        "id": "aSG6Ek_2betI"
      },
      "source": [
        "df.plot(kind='density',subplots=True, layout=(7,2), sharex=False, sharey=False, figsize=(15,15))\n",
        "plt.suptitle(\"PDF\", y=1.00, fontweight='bold', fontsize=40)\n",
        "plt.show()"
      ],
      "execution_count": null,
      "outputs": []
    },
    {
      "cell_type": "markdown",
      "metadata": {
        "id": "CPcUJkq9cK2y"
      },
      "source": [
        "### Box and Whisker Plot"
      ]
    },
    {
      "cell_type": "code",
      "metadata": {
        "id": "ugbhB9FycOD7"
      },
      "source": [
        "df.plot(kind='box', subplots=False,layout=(4,4), sharex=False, sharey=False, fontsize=16,figsize=(10,10))\n",
        "plt.suptitle(\"Box and Whisker\",y=1.00, fontweight='bold', fontsize=40)\n",
        "plt.show()"
      ],
      "execution_count": null,
      "outputs": []
    },
    {
      "cell_type": "markdown",
      "metadata": {
        "id": "HBap_Q3LcvWx"
      },
      "source": [
        "### Scatter Matrix\n",
        "Yet to be completed"
      ]
    },
    {
      "cell_type": "code",
      "metadata": {
        "id": "tKlJ2AjUcyZB"
      },
      "source": [
        "from pandas.plotting._matplotlib import scatter_matrix\n",
        "Axes = scatter_matrix(df,figsize(15,15))\n",
        "plt.suptitle(\"Scatter Matrix\", y=1.00,fontweight='bold', fontsize=30)\n",
        "plt.rcParams['axes.labelsize']=15"
      ],
      "execution_count": null,
      "outputs": []
    },
    {
      "cell_type": "markdown",
      "metadata": {
        "id": "y6WbtD_q4xXC"
      },
      "source": [
        "# Data Seggregation"
      ]
    },
    {
      "cell_type": "code",
      "metadata": {
        "id": "yZcCGVal40kq"
      },
      "source": [
        "from sklearn.model_selection import train_test_split\n",
        "from sklearn.model_selection import KFold\n",
        "import numpy as np"
      ],
      "execution_count": null,
      "outputs": []
    },
    {
      "cell_type": "markdown",
      "metadata": {
        "id": "9YLmTsCe5D-W"
      },
      "source": [
        "## Train Set"
      ]
    },
    {
      "cell_type": "code",
      "metadata": {
        "id": "HaGkFR7c5DQX"
      },
      "source": [
        "X, y = np.arange(10).reshape((5,2)), range(5)"
      ],
      "execution_count": null,
      "outputs": []
    },
    {
      "cell_type": "code",
      "metadata": {
        "id": "SS2v79Br5SnA"
      },
      "source": [
        "X"
      ],
      "execution_count": null,
      "outputs": []
    },
    {
      "cell_type": "code",
      "metadata": {
        "id": "B-rTcUQw5UCL"
      },
      "source": [
        "y"
      ],
      "execution_count": null,
      "outputs": []
    },
    {
      "cell_type": "code",
      "metadata": {
        "id": "ohmAAeI85Wzt"
      },
      "source": [
        "X_train, X_test, y_train, y_test = train_test_split(X,y,test_size=0.3, random_state=42)"
      ],
      "execution_count": null,
      "outputs": []
    },
    {
      "cell_type": "code",
      "metadata": {
        "id": "x5Zb_VW65oWV"
      },
      "source": [
        "X_train"
      ],
      "execution_count": null,
      "outputs": []
    },
    {
      "cell_type": "code",
      "metadata": {
        "id": "TnFp4SXU5pWa"
      },
      "source": [
        "X_test"
      ],
      "execution_count": null,
      "outputs": []
    },
    {
      "cell_type": "code",
      "metadata": {
        "id": "c5McnlO55rNd"
      },
      "source": [
        "y_train"
      ],
      "execution_count": null,
      "outputs": []
    },
    {
      "cell_type": "code",
      "metadata": {
        "id": "pG5H2zkt5srx"
      },
      "source": [
        "y_test"
      ],
      "execution_count": null,
      "outputs": []
    },
    {
      "cell_type": "markdown",
      "metadata": {
        "id": "45Ps4KFT5xV5"
      },
      "source": [
        "## KFold"
      ]
    },
    {
      "cell_type": "code",
      "metadata": {
        "id": "euwuqpqw5tkl"
      },
      "source": [
        "dataset= range(16)"
      ],
      "execution_count": null,
      "outputs": []
    },
    {
      "cell_type": "code",
      "metadata": {
        "id": "j0PSW-iZ54gl"
      },
      "source": [
        "KFoldCrossValidator = KFold(n_splits=4, shuffle=False)\n",
        "KFdataset = KFoldCrossValidator.split(dataset) # model will be trained in 4 patches"
      ],
      "execution_count": null,
      "outputs": []
    },
    {
      "cell_type": "code",
      "metadata": {
        "id": "TiJdyd1D6G15"
      },
      "source": [
        "print('{} {:61} {}'. format('Round', 'Training Set', 'Testing Set'))\n",
        "for iteration, data in enumerate(KFdataset, start=1):\n",
        "    print('{:^9} {} {:^25}'.format(iteration,data[0],str(data[1])))"
      ],
      "execution_count": null,
      "outputs": []
    },
    {
      "cell_type": "markdown",
      "metadata": {
        "id": "4DjGhpXc-yt0"
      },
      "source": [
        "# Training the Model"
      ]
    },
    {
      "cell_type": "code",
      "metadata": {
        "id": "CFPz6l_p-2BY"
      },
      "source": [
        "import warnings\n",
        "import pandas\n",
        "from sklearn.linear_model import LinearRegression, ElasticNet, Lasso, Ridge\n",
        "from sklearn.neighbors import KNeighborsRegressor\n",
        "from sklearn.svm import SVR\n",
        "from sklearn.tree import DecisionTreeRegressor\n",
        "from sklearn.model_selection import train_test_split, KFold, cross_val_score "
      ],
      "execution_count": null,
      "outputs": []
    },
    {
      "cell_type": "code",
      "metadata": {
        "id": "_JsMLaYZ_pl8"
      },
      "source": [
        "array = df.values\n",
        "X = array[:,0:12] # first 12 columns to X\n",
        "Y = array[:,12]"
      ],
      "execution_count": null,
      "outputs": []
    },
    {
      "cell_type": "code",
      "metadata": {
        "id": "ZqlfmWRXATkq"
      },
      "source": [
        "max_error_scoring = 'max_error'\n",
        "neg_mean_absolute_error_scoring = 'neg_mean_absolute_error'\n",
        "r2_scoring = 'r2'\n",
        "neg_mean_squared_error_scoring = 'neg_mean_squared_error'"
      ],
      "execution_count": null,
      "outputs": []
    },
    {
      "cell_type": "code",
      "metadata": {
        "id": "XgXeGSNxBH5F"
      },
      "source": [
        "models = []\n",
        "models.append(('LR', LinearRegression()))\n",
        "models.append(('LASSO', Lasso()))\n",
        "models.append(('EN',ElasticNet()))\n",
        "models.append(('Ridge',Ridge()))\n",
        "models.append(('KNN', KNeighborsRegressor()))\n",
        "models.append(('CART',DecisionTreeRegressor()))\n",
        "models.append(('SVR',SVR()))"
      ],
      "execution_count": null,
      "outputs": []
    },
    {
      "cell_type": "code",
      "metadata": {
        "id": "zkjCccVUDjrh"
      },
      "source": [
        "# Evaluate models and print results\n",
        "results = []\n",
        "names = []\n",
        "for name, model in models:\n",
        "    kfold = KFold(n_splits=10, random_state=7)\n",
        "    cv_results = cross_val_score(model, X, Y, cv=kfold, scoring=max_error_scoring)\n",
        "    cv_results2 = cross_val_score(model, X, Y, cv=kfold, scoring=neg_mean_absolute_error_scoring)\n",
        "    cv_results3 = cross_val_score(model, X, Y, cv=kfold, scoring=r2_scoring)\n",
        "    cv_results4 = cross_val_score(model, X, Y, cv=kfold, scoring=neg_mean_squared_error_scoring)\n",
        "    msg = \"%s: max error: %f , mean absolute error: %f, r2: %f, mean squared error: %f\" % (name, cv_results.mean(), -cv_results2.mean(),cv_results3.mean(),-cv_results4.mean())\n",
        "    print(msg)"
      ],
      "execution_count": null,
      "outputs": []
    },
    {
      "cell_type": "code",
      "metadata": {
        "id": "PMVzhmJLEu84"
      },
      "source": [
        "X_train, X_test,Y_train,Y_test = train_test_split(X,Y,test_size=0.2,random_state=1,shuffle=True)"
      ],
      "execution_count": null,
      "outputs": []
    },
    {
      "cell_type": "code",
      "metadata": {
        "id": "Ig915jonFAhb"
      },
      "source": [
        "lasso_model  =Lasso()\n",
        "lasso_model.fit(X_train,Y_train)"
      ],
      "execution_count": null,
      "outputs": []
    },
    {
      "cell_type": "code",
      "metadata": {
        "id": "dwuRKQKUFIVp"
      },
      "source": [
        "predictions = lasso_model.predict(X_test)\n",
        "print(predictions)"
      ],
      "execution_count": null,
      "outputs": []
    },
    {
      "cell_type": "markdown",
      "metadata": {
        "id": "bAW2lXhwFe-Q"
      },
      "source": [
        "## Deploying the Model"
      ]
    },
    {
      "cell_type": "code",
      "metadata": {
        "id": "5gSI8seEFir4"
      },
      "source": [
        "import pickle\n",
        "pickle.dump(lasso_model, open('model.pkl', 'wb'))\n",
        "model = pickle.load(open('model.pkl','rb'))"
      ],
      "execution_count": null,
      "outputs": []
    },
    {
      "cell_type": "code",
      "metadata": {
        "id": "Rs3SS-m4FixF"
      },
      "source": [
        "!pip install flask-ngrok"
      ],
      "execution_count": null,
      "outputs": []
    },
    {
      "cell_type": "code",
      "metadata": {
        "id": "64-Q2bBgGN3m"
      },
      "source": [
        "from flask import Flask, request\n",
        "from flask_ngrok import run_with_ngrok\n",
        "import requests\n",
        "import numpy as np\n",
        "app = Flask(__name__)\n",
        "run_with_ngrok(app)"
      ],
      "execution_count": null,
      "outputs": []
    },
    {
      "cell_type": "code",
      "metadata": {
        "id": "1Mo1GTeeGxy4"
      },
      "source": [
        "@app.route('/predict',methods=['POST'])\n",
        "def home():\n",
        "    X = int(request.args.get('X', ''))\n",
        "    Y = int(request.args.get('Y', ''))\n",
        "    month = int(request.args.get('month', ''))\n",
        "    day = int(request.args.get('day', ''))\n",
        "    FFMC = float(request.args.get('FFMC', ''))\n",
        "    DMC = float(request.args.get('DMC', ''))\n",
        "    DC = float(request.args.get('DC', ''))\n",
        "    ISI = float(request.args.get('ISI', ''))\n",
        "    temp = float(request.args.get('temp', ''))\n",
        "    RH = float(request.args.get('RH', ''))\n",
        "    wind = float(request.args.get('wind', ''))\n",
        "    rain = float(request.args.get('rain', ''))\n",
        "    prediction = lasso_model.predict([[X, Y, month,day,FFMC,DMC,DC,ISI,temp,RH,wind,rain]])\n",
        "    print('*******************************')\n",
        "    print(prediction)\n",
        "    return 'Prediction is ' + str(prediction[0])\n",
        "      \n",
        "app.run()"
      ],
      "execution_count": null,
      "outputs": []
    }
  ]
}